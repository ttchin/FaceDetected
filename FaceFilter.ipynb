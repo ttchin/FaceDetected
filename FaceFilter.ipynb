{
 "cells": [
  {
   "cell_type": "code",
   "execution_count": null,
   "metadata": {
    "collapsed": true
   },
   "outputs": [],
   "source": [
    "import os\n",
    "import os.path \n",
    "import cv2\n",
    "import numpy as np"
   ]
  },
  {
   "cell_type": "code",
   "execution_count": null,
   "metadata": {},
   "outputs": [],
   "source": [
    "def detectFace(parent, imageName):\n",
    "    \n",
    "    fileFullPath = os.path.join(parent,filename)\n",
    "    print(\"filename with full path:\"+ fileFullPath)  \n",
    "    \n",
    "    face_cascade = cv2.CascadeClassifier('haarcascade_frontalface_default.xml')\n",
    "    destImageDir=\"./dest/tiantian\"\n",
    "    \n",
    "    \n",
    "    img = cv2.imread(fileFullPath)\n",
    "    gray = cv2.cvtColor(img, cv2.COLOR_BGR2GRAY)\n",
    "\n",
    "    faces = face_cascade.detectMultiScale(gray, 1.3, 5)\n",
    "\n",
    "    if len(faces) > 0:\n",
    "        print('face detected in %s' % fileFullPath)\n",
    "        for (x,y,w,h) in faces:\n",
    "            cv2.rectangle(img,(x,y),(x+w,y+h),(255,0,0),2)\n",
    "            convert = 'convert {0} -crop {1[2]}x{1[3]}+{1[0]}+{1[1]} {2}'.format(fileFullPath, (x,y,w,h), destImageDir+'/'+filename)\n",
    "            print(convert)\n",
    "            os.system(convert)\n",
    "\n",
    "\n",
    "if __name__ == '__main__':\n",
    "    \n",
    "    sourceDir=\"./images/tian\"  \n",
    "    for parent,dirnames,filenames in os.walk(sourceDir):  \n",
    "        for filename in filenames:    \n",
    "            #print(\"parent folder is:\" + parent)  \n",
    "            if(filename.endswith('.jpg')):\n",
    "                detectFace(parent,filename)\n",
    "            \n",
    "            \n",
    "            \n",
    "            \n",
    "\n",
    "   "
   ]
  },
  {
   "cell_type": "code",
   "execution_count": null,
   "metadata": {
    "collapsed": true
   },
   "outputs": [],
   "source": []
  }
 ],
 "metadata": {
  "kernelspec": {
   "display_name": "Python 3",
   "language": "python",
   "name": "python3"
  },
  "language_info": {
   "codemirror_mode": {
    "name": "ipython",
    "version": 3
   },
   "file_extension": ".py",
   "mimetype": "text/x-python",
   "name": "python",
   "nbconvert_exporter": "python",
   "pygments_lexer": "ipython3",
   "version": "3.5.3"
  }
 },
 "nbformat": 4,
 "nbformat_minor": 2
}
