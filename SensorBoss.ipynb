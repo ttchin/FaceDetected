{
 "cells": [
  {
   "cell_type": "code",
   "execution_count": 2,
   "metadata": {},
   "outputs": [
    {
     "name": "stdout",
     "output_type": "stream",
     "text": [
      "Model Loaded.\n",
      "face detected\n",
      "1/1 [==============================] - 0s\n",
      "[[ 0.19873539  0.80126458]]\n",
      "1/1 [==============================] - 0s\n",
      "Not boss\n"
     ]
    }
   ],
   "source": [
    "# -*- coding:utf-8 -*-\n",
    "import cv2\n",
    "\n",
    "from boss_train import Model\n",
    "\n",
    "\n",
    "\n",
    "if __name__ == '__main__':\n",
    "    frame = cv2.imread('./w.jpg')\n",
    "    cascade_path = \"haarcascade_frontalface_default.xml\"\n",
    "    model = Model()\n",
    "    model.load()\n",
    "    \n",
    "    frame_gray = cv2.cvtColor(frame, cv2.COLOR_BGR2GRAY)\n",
    "    cascade = cv2.CascadeClassifier(cascade_path)\n",
    "    facerect = cascade.detectMultiScale(frame_gray, scaleFactor=1.2, minNeighbors=3, minSize=(10, 10))\n",
    "\n",
    "    if len(facerect) > 0:\n",
    "        print('face detected')\n",
    "        color = (255, 255, 255)  # 白\n",
    "        for rect in facerect:\n",
    "            x, y = rect[0:2]\n",
    "            width, height = rect[2:4]\n",
    "            image = frame[y - 10: y + height, x: x + width]\n",
    "\n",
    "            result = model.predict(image)\n",
    "            if result == 0:  # boss\n",
    "                print('Boss is approaching')\n",
    "\n",
    "            else:\n",
    "                print('Not boss')\n"
   ]
  },
  {
   "cell_type": "code",
   "execution_count": null,
   "metadata": {
    "collapsed": true
   },
   "outputs": [],
   "source": []
  }
 ],
 "metadata": {
  "kernelspec": {
   "display_name": "Python 3",
   "language": "python",
   "name": "python3"
  },
  "language_info": {
   "codemirror_mode": {
    "name": "ipython",
    "version": 3
   },
   "file_extension": ".py",
   "mimetype": "text/x-python",
   "name": "python",
   "nbconvert_exporter": "python",
   "pygments_lexer": "ipython3",
   "version": "3.5.3"
  }
 },
 "nbformat": 4,
 "nbformat_minor": 2
}
